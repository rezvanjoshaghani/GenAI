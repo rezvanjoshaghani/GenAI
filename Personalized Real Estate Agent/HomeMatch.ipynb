{
 "cells": [
  {
   "cell_type": "markdown",
   "id": "a108af04",
   "metadata": {},
   "source": [
    "This is a starter notebook for the project, you'll have to import the libraries you'll need, you can find a list of the ones available in this workspace in the requirements.txt file in this workspace. "
   ]
  },
  {
   "cell_type": "code",
   "execution_count": 1,
   "id": "a05d3e16",
   "metadata": {},
   "outputs": [
    {
     "name": "stdout",
     "output_type": "stream",
     "text": [
      "Defaulting to user installation because normal site-packages is not writeable\n",
      "Requirement already satisfied: jq in /home/student/.local/lib/python3.10/site-packages (1.8.0)\n"
     ]
    }
   ],
   "source": [
    "! pip install jq"
   ]
  },
  {
   "cell_type": "code",
   "execution_count": 11,
   "id": "4d6d94b7",
   "metadata": {},
   "outputs": [],
   "source": [
    "import os\n",
    "\n",
    "os.environ[\"OPENAI_API_KEY\"] = \"API_KEY\"\n",
    "os.environ[\"OPENAI_API_BASE\"] = \"https://openai.vocareum.com/v1\"\n",
    "\n",
    "from langchain.llms import OpenAI\n",
    "from langchain.prompts import PromptTemplate\n",
    "from langchain.prompts.few_shot import FewShotPromptTemplate\n",
    "import json\n",
    "\n",
    "from langchain.document_loaders import JSONLoader\n",
    "from langchain.embeddings.openai import OpenAIEmbeddings\n",
    "from langchain.text_splitter import CharacterTextSplitter\n",
    "from langchain.vectorstores import Chroma\n",
    "from langchain.chains import RetrievalQA\n",
    "from langchain import LLMChain\n",
    "from langchain.chains.question_answering import load_qa_chain\n",
    "from langchain.memory import ConversationSummaryMemory, ConversationBufferMemory, CombinedMemory, ChatMessageHistory\n",
    "from typing import Any, Dict, Optional, Tuple\n",
    "from langchain.chains import ConversationChain\n"
   ]
  },
  {
   "cell_type": "code",
   "execution_count": 12,
   "id": "6554fd4c",
   "metadata": {},
   "outputs": [],
   "source": [
    "model_name = \"gpt-3.5-turbo\"\n",
    "temperature = 0.0\n",
    "llm = OpenAI(model_name=model_name, temperature=temperature, max_tokens = 3000)\n",
    "\n",
    "instruction = \"\"\"\n",
    "Generate at least 10 real estate listings for various types of properties. Each listing should include the following details:\n",
    "Neighborhood: A well-known or fictional neighborhood where the property is located.\n",
    "Price: The listing price of the property in USD.\n",
    "Bedrooms: The number of bedrooms in the property.\n",
    "Bathrooms: The number of bathrooms in the property.\n",
    "Size: The total square footage of the property.\n",
    "Description: A compelling and engaging description of the property, highlighting its key features, amenities, and unique selling points.\n",
    "Neighborhood Description: A brief overview of the neighborhood, including notable landmarks, nearby attractions, schools, and the general atmosphere.\n",
    "Ensure that each listing varies in property type (e.g., single-family homes, apartments, condos, townhouses, luxury estates, vacation homes) and location (urban, suburban, rural).\n",
    "return the response as a JSON array.\n",
    "\"\"\""
   ]
  },
  {
   "cell_type": "markdown",
   "id": "9b76b09f",
   "metadata": {},
   "source": [
    "## Synthetic Data Generation\n",
    "Criteria\t\n",
    "- Generating Real Estate Listings with an LLM\n",
    "\n",
    "Submission Requirements\n",
    "- The submission must demonstrate using a Large Language Model (LLM) to generate at least 10 diverse and realistic real estate listings containing facts about the real estate."
   ]
  },
  {
   "cell_type": "code",
   "execution_count": null,
   "id": "dfb8eb40",
   "metadata": {},
   "outputs": [],
   "source": [
    "neighborhood1 = \"Green Oaks\"\n",
    "price1 = \"$800,000\"\n",
    "bedrooms1 = 3\n",
    "bathrooms1 = 2\n",
    "size1 = \"2,000 sqft\"\n",
    "description1 = \"\"\"Welcome to this eco-friendly oasis nestled in the heart of Green Oaks. This charming 3-bedroom, 2-bathroom home boasts energy-efficient features such as solar panels and a well-insulated structure. Natural light floods the living spaces, highlighting the beautiful hardwood floors and eco-conscious finishes. The open-concept kitchen and dining area lead to a spacious backyard with a vegetable garden, perfect for the eco-conscious family. Embrace sustainable living without compromising on style in this Green Oaks gem.\"\"\"\n",
    "neighborhood_description1 = \"\"\"Green Oaks is a close-knit, environmentally-conscious community with access to organic grocery stores, community gardens, and bike paths. Take a stroll through the nearby Green Oaks Park or grab a cup of coffee at the cozy Green Bean Cafe. With easy access to public transportation and bike lanes, commuting is a breeze.\"\"\"\n",
    "\n",
    "example_prompt = PromptTemplate(input_variables=[\"neighborhood\", \"price\", \"bedrooms\", \"bathrooms\", \"size\", \"description\",\"neighborhood_description\"], \n",
    "                                template=\"{neighborhood}\\n{price}\\n{bedrooms}\\n{bathrooms}\\n{size}\\n{description}\\n{neighborhood_description}\")\n",
    "examples = [ \n",
    "    {\n",
    "        \"neighborhood\":neighborhood1,\n",
    "        \"price\":price1,\n",
    "        \"bedrooms\":bedrooms1,\n",
    "        \"bathrooms\":bathrooms1,\n",
    "        \"size\":size1,\n",
    "        \"description\":description1,\n",
    "        \"neighborhood_description\": neighborhood_description1,\n",
    "    }\n",
    "]\n",
    "\n",
    "cot_prompt = FewShotPromptTemplate(\n",
    "    examples=examples, \n",
    "    example_prompt=example_prompt, \n",
    "    suffix=\"Use this example to generate corrent set of realstate listings: {input}\", \n",
    "    input_variables=[\"input\"]\n",
    ")\n",
    "\n",
    "cot_text = cot_prompt.format(input=instruction)\n",
    "print(\"=== Chain of Thought Prompt ===\")\n",
    "print(cot_text)"
   ]
  },
  {
   "cell_type": "code",
   "execution_count": null,
   "id": "cf3582d8",
   "metadata": {},
   "outputs": [],
   "source": [
    "print(\"=== Chain of Thought Answer ===\")\n",
    "\n",
    "res=llm(cot_text)"
   ]
  },
  {
   "cell_type": "code",
   "execution_count": null,
   "id": "b1207a50",
   "metadata": {
    "scrolled": false
   },
   "outputs": [],
   "source": [
    "print(res)"
   ]
  },
  {
   "cell_type": "markdown",
   "id": "85e6089d",
   "metadata": {},
   "source": [
    "Turn the results into a file So i dont have to generate the data every time I work on this notebook saving on the API costs."
   ]
  },
  {
   "cell_type": "code",
   "execution_count": null,
   "id": "2a2a7cc8",
   "metadata": {},
   "outputs": [],
   "source": [
    "\n",
    "with open(\"listings.json\", \"w\") as file:\n",
    "    json.dump(json.loads(res), file, indent=4)\n",
    "\n",
    "print(\"File saved successfully as real_estate_listings.json\")"
   ]
  },
  {
   "cell_type": "markdown",
   "id": "e97bfa8d",
   "metadata": {},
   "source": [
    "## Semantic Search p1\n",
    "Criteria\t\n",
    "- Creating a Vector Database and Storing Listings\n",
    "\n",
    "Submission Requirements\n",
    "- The project must demonstrate the creation of a vector database and successfully storing real estate listing embeddings within it. The database should effectively store and organize the embeddings generated from the LLM-created listings."
   ]
  },
  {
   "cell_type": "code",
   "execution_count": 4,
   "id": "120e78b8",
   "metadata": {},
   "outputs": [
    {
     "name": "stdout",
     "output_type": "stream",
     "text": [
      "[\n",
      "    {\n",
      "        \"Neighborhood\": \"Brooklyn Heights\",\n",
      "        \"Price\": \"$1,200,000\",\n",
      "        \"Bedrooms\": 4,\n",
      "        \"Bathrooms\": 3,\n",
      "        \"Size\": \"2,500 sqft\",\n",
      "        \"Description\": \"Stunning brownstone in the heart of Brooklyn Heights with original details and modern upgrades. This 4-bedroom, 3-bathroom home features a chef's kitchen, rooftop terrace, and spacious backyard.\",\n",
      "        \"Neighborhood Description\": \"Brooklyn Heights is a historic neighborhood known for its tree-lined streets, charming brownstones, and proximity to Brooklyn Bridge Park.\"\n",
      "    },\n",
      "    {\n",
      "        \"Neighborhood\": \"Beverly Hills\",\n",
      "        \"Price\": \"$5,500,000\",\n",
      "        \"Bedrooms\": 6,\n",
      "        \"Bathrooms\": 7,\n",
      "        \"Size\": \"8,000 sqft\",\n",
      "        \"Description\": \"Luxurious estate in Beverly Hills with a pool, tennis court, and guest house. This 6-bedroom, 7-bathroom home offers privacy and elegance in a prestigious neighborhood.\",\n",
      "        \"Neighborhood Description\": \"Beverly Hills is synonymous with luxury living, upscale shopping, and celebrity sightings. Enjoy world-class dining and entertainment in this exclusive enclave.\"\n",
      "    },\n",
      "    {\n",
      "        \"Neighborhood\": \"Lakeview\",\n",
      "        \"Price\": \"$600,000\",\n",
      "        \"Bedrooms\": 2,\n",
      "        \"Bathrooms\": 2,\n",
      "        \"Size\": \"1,200 sqft\",\n",
      "        \"Description\": \"Modern condo in Lakeview with lake views and a private balcony. This 2-bedroom, 2-bathroom unit features a gourmet kitchen, hardwood floors, and in-unit laundry.\",\n",
      "        \"Neighborhood Description\": \"Lakeview is a vibrant neighborhood known for its proximity to Lake Michigan, diverse dining options, and lively nightlife scene.\"\n",
      "    },\n",
      "    {\n",
      "        \"Neighborhood\": \"Pacific Palisades\",\n",
      "        \"Price\": \"$3,000,000\",\n",
      "        \"Bedrooms\": 5,\n",
      "        \"Bathrooms\": 4,\n",
      "        \"Size\": \"4,500 sqft\",\n",
      "        \"Description\": \"Contemporary home in Pacific Palisades with ocean views and a backyard oasis. This 5-bedroom, 4-bathroom property offers a chef's kitchen, home theater, and outdoor dining area.\",\n",
      "        \"Neighborhood Description\": \"Pacific Palisades is a coastal neighborhood known for its upscale homes, scenic hiking trails, and proximity to the beach. Enjoy a relaxed, beachside lifestyle in this exclusive enclave.\"\n",
      "    },\n",
      "    {\n",
      "        \"Neighborhood\": \"Midtown Manhattan\",\n",
      "        \"Price\": \"$2,500,000\",\n",
      "        \"Bedrooms\": 3,\n",
      "        \"Bathrooms\": 2,\n",
      "        \"Size\": \"1,800 sqft\",\n",
      "        \"Description\": \"Luxury apartment in Midtown Manhattan with skyline views and high-end finishes. This 3-bedroom, 2-bathroom unit features a doorman, fitness center, and rooftop terrace.\",\n",
      "        \"Neighborhood Description\": \"Midtown Manhattan is the bustling commercial and entertainment hub of New York City. Enjoy world-class dining, shopping, and cultural attractions in this vibrant neighborhood.\"\n",
      "    },\n",
      "    {\n",
      "        \"Neighborhood\": \"South Beach\",\n",
      "        \"Price\": \"$1,800,000\",\n",
      "        \"Bedrooms\": 3,\n",
      "        \"Bathrooms\": 3,\n",
      "        \"Size\": \"2,000 sqft\",\n",
      "        \"Description\": \"Modern townhouse in South Beach with a rooftop deck and ocean views. This 3-bedroom, 3-bathroom home offers a gourmet kitchen, spa-like bathrooms, and a two-car garage.\",\n",
      "        \"Neighborhood Description\": \"South Beach is a trendy neighborhood known for its sandy beaches, vibrant nightlife, and Art Deco architecture. Experience the best of Miami living in this stylish enclave.\"\n",
      "    },\n",
      "    {\n",
      "        \"Neighborhood\": \"Nob Hill\",\n",
      "        \"Price\": \"$1,500,000\",\n",
      "        \"Bedrooms\": 2,\n",
      "        \"Bathrooms\": 2,\n",
      "        \"Size\": \"1,500 sqft\",\n",
      "        \"Description\": \"Charming condo in Nob Hill with city views and a private patio. This 2-bedroom, 2-bathroom unit features a fireplace, hardwood floors, and a gourmet kitchen.\",\n",
      "        \"Neighborhood Description\": \"Nob Hill is a historic neighborhood known for its upscale homes, boutique shopping, and iconic cable cars. Enjoy a sophisticated urban lifestyle in this prestigious enclave.\"\n",
      "    },\n",
      "    {\n",
      "        \"Neighborhood\": \"Soho\",\n",
      "        \"Price\": \"$4,000,000\",\n",
      "        \"Bedrooms\": 4,\n",
      "        \"Bathrooms\": 3,\n",
      "        \"Size\": \"3,000 sqft\",\n",
      "        \"Description\": \"Loft-style apartment in Soho with exposed brick and high ceilings. This 4-bedroom, 3-bathroom unit features a designer kitchen, home office, and custom lighting.\",\n",
      "        \"Neighborhood Description\": \"Soho is a trendy neighborhood known for its art galleries, upscale boutiques, and chic restaurants. Experience the epitome of downtown living in this stylish enclave.\"\n",
      "    },\n",
      "    {\n",
      "        \"Neighborhood\": \"Silver Lake\",\n",
      "        \"Price\": \"$900,000\",\n",
      "        \"Bedrooms\": 3,\n",
      "        \"Bathrooms\": 2,\n",
      "        \"Size\": \"1,800 sqft\",\n",
      "        \"Description\": \"Mid-century modern home in Silver Lake with hillside views and a backyard pool. This 3-bedroom, 2-bathroom property offers an open floor plan, hardwood floors, and a two-car garage.\",\n",
      "        \"Neighborhood Description\": \"Silver Lake is a hip neighborhood known for its indie music scene, trendy eateries, and scenic reservoir. Embrace the bohemian spirit of Los Angeles in this eclectic enclave.\"\n",
      "    },\n",
      "    {\n",
      "        \"Neighborhood\": \"Georgetown\",\n",
      "        \"Price\": \"$1,000,000\",\n",
      "        \"Bedrooms\": 3,\n",
      "        \"Bathrooms\": 2,\n",
      "        \"Size\": \"2,000 sqft\",\n",
      "        \"Description\": \"Historic townhouse in Georgetown with a private garden and original details. This 3-bedroom, 2-bathroom home features a gourmet kitchen, hardwood floors, and a cozy fireplace.\",\n",
      "        \"Neighborhood Description\": \"Georgetown is a charming neighborhood known for its cobblestone streets, historic architecture, and upscale shops. Experience the elegance of Washington, D.C. living in this prestigious enclave.\"\n",
      "    }\n",
      "]\n"
     ]
    }
   ],
   "source": [
    "# Load the JSON file\n",
    "with open(\"listings.json\", \"r\") as file:\n",
    "    listings = json.load(file)\n",
    "\n",
    "# Print the loaded data\n",
    "print(json.dumps(listings, indent=4))  # Pretty print the JSON data"
   ]
  },
  {
   "cell_type": "code",
   "execution_count": 13,
   "id": "83d39690",
   "metadata": {},
   "outputs": [
    {
     "name": "stdout",
     "output_type": "stream",
     "text": [
      "[Document(page_content='{\"Neighborhood\": \"Brooklyn Heights\", \"Price\": \"$1,200,000\", \"Bedrooms\": 4, \"Bathrooms\": 3, \"Size\": \"2,500 sqft\", \"Description\": \"Stunning brownstone in the heart of Brooklyn Heights with original details and modern upgrades. This 4-bedroom, 3-bathroom home features a chef\\'s kitchen, rooftop terrace, and spacious backyard.\", \"Neighborhood Description\": \"Brooklyn Heights is a historic neighborhood known for its tree-lined streets, charming brownstones, and proximity to Brooklyn Bridge Park.\"}', metadata={'source': '/workspace/listings.json', 'seq_num': 1}), Document(page_content='{\"Neighborhood\": \"Beverly Hills\", \"Price\": \"$5,500,000\", \"Bedrooms\": 6, \"Bathrooms\": 7, \"Size\": \"8,000 sqft\", \"Description\": \"Luxurious estate in Beverly Hills with a pool, tennis court, and guest house. This 6-bedroom, 7-bathroom home offers privacy and elegance in a prestigious neighborhood.\", \"Neighborhood Description\": \"Beverly Hills is synonymous with luxury living, upscale shopping, and celebrity sightings. Enjoy world-class dining and entertainment in this exclusive enclave.\"}', metadata={'source': '/workspace/listings.json', 'seq_num': 2}), Document(page_content='{\"Neighborhood\": \"Lakeview\", \"Price\": \"$600,000\", \"Bedrooms\": 2, \"Bathrooms\": 2, \"Size\": \"1,200 sqft\", \"Description\": \"Modern condo in Lakeview with lake views and a private balcony. This 2-bedroom, 2-bathroom unit features a gourmet kitchen, hardwood floors, and in-unit laundry.\", \"Neighborhood Description\": \"Lakeview is a vibrant neighborhood known for its proximity to Lake Michigan, diverse dining options, and lively nightlife scene.\"}', metadata={'source': '/workspace/listings.json', 'seq_num': 3}), Document(page_content='{\"Neighborhood\": \"Pacific Palisades\", \"Price\": \"$3,000,000\", \"Bedrooms\": 5, \"Bathrooms\": 4, \"Size\": \"4,500 sqft\", \"Description\": \"Contemporary home in Pacific Palisades with ocean views and a backyard oasis. This 5-bedroom, 4-bathroom property offers a chef\\'s kitchen, home theater, and outdoor dining area.\", \"Neighborhood Description\": \"Pacific Palisades is a coastal neighborhood known for its upscale homes, scenic hiking trails, and proximity to the beach. Enjoy a relaxed, beachside lifestyle in this exclusive enclave.\"}', metadata={'source': '/workspace/listings.json', 'seq_num': 4}), Document(page_content='{\"Neighborhood\": \"Midtown Manhattan\", \"Price\": \"$2,500,000\", \"Bedrooms\": 3, \"Bathrooms\": 2, \"Size\": \"1,800 sqft\", \"Description\": \"Luxury apartment in Midtown Manhattan with skyline views and high-end finishes. This 3-bedroom, 2-bathroom unit features a doorman, fitness center, and rooftop terrace.\", \"Neighborhood Description\": \"Midtown Manhattan is the bustling commercial and entertainment hub of New York City. Enjoy world-class dining, shopping, and cultural attractions in this vibrant neighborhood.\"}', metadata={'source': '/workspace/listings.json', 'seq_num': 5}), Document(page_content='{\"Neighborhood\": \"South Beach\", \"Price\": \"$1,800,000\", \"Bedrooms\": 3, \"Bathrooms\": 3, \"Size\": \"2,000 sqft\", \"Description\": \"Modern townhouse in South Beach with a rooftop deck and ocean views. This 3-bedroom, 3-bathroom home offers a gourmet kitchen, spa-like bathrooms, and a two-car garage.\", \"Neighborhood Description\": \"South Beach is a trendy neighborhood known for its sandy beaches, vibrant nightlife, and Art Deco architecture. Experience the best of Miami living in this stylish enclave.\"}', metadata={'source': '/workspace/listings.json', 'seq_num': 6}), Document(page_content='{\"Neighborhood\": \"Nob Hill\", \"Price\": \"$1,500,000\", \"Bedrooms\": 2, \"Bathrooms\": 2, \"Size\": \"1,500 sqft\", \"Description\": \"Charming condo in Nob Hill with city views and a private patio. This 2-bedroom, 2-bathroom unit features a fireplace, hardwood floors, and a gourmet kitchen.\", \"Neighborhood Description\": \"Nob Hill is a historic neighborhood known for its upscale homes, boutique shopping, and iconic cable cars. Enjoy a sophisticated urban lifestyle in this prestigious enclave.\"}', metadata={'source': '/workspace/listings.json', 'seq_num': 7}), Document(page_content='{\"Neighborhood\": \"Soho\", \"Price\": \"$4,000,000\", \"Bedrooms\": 4, \"Bathrooms\": 3, \"Size\": \"3,000 sqft\", \"Description\": \"Loft-style apartment in Soho with exposed brick and high ceilings. This 4-bedroom, 3-bathroom unit features a designer kitchen, home office, and custom lighting.\", \"Neighborhood Description\": \"Soho is a trendy neighborhood known for its art galleries, upscale boutiques, and chic restaurants. Experience the epitome of downtown living in this stylish enclave.\"}', metadata={'source': '/workspace/listings.json', 'seq_num': 8}), Document(page_content='{\"Neighborhood\": \"Silver Lake\", \"Price\": \"$900,000\", \"Bedrooms\": 3, \"Bathrooms\": 2, \"Size\": \"1,800 sqft\", \"Description\": \"Mid-century modern home in Silver Lake with hillside views and a backyard pool. This 3-bedroom, 2-bathroom property offers an open floor plan, hardwood floors, and a two-car garage.\", \"Neighborhood Description\": \"Silver Lake is a hip neighborhood known for its indie music scene, trendy eateries, and scenic reservoir. Embrace the bohemian spirit of Los Angeles in this eclectic enclave.\"}', metadata={'source': '/workspace/listings.json', 'seq_num': 9}), Document(page_content='{\"Neighborhood\": \"Georgetown\", \"Price\": \"$1,000,000\", \"Bedrooms\": 3, \"Bathrooms\": 2, \"Size\": \"2,000 sqft\", \"Description\": \"Historic townhouse in Georgetown with a private garden and original details. This 3-bedroom, 2-bathroom home features a gourmet kitchen, hardwood floors, and a cozy fireplace.\", \"Neighborhood Description\": \"Georgetown is a charming neighborhood known for its cobblestone streets, historic architecture, and upscale shops. Experience the elegance of Washington, D.C. living in this prestigious enclave.\"}', metadata={'source': '/workspace/listings.json', 'seq_num': 10})]\n"
     ]
    }
   ],
   "source": [
    "loader = JSONLoader(file_path='./listings.json', jq_schema='.[]', text_content=False)  # Adjust jq_schema as needed\n",
    "docs = loader.load()\n",
    "\n",
    "print(docs)"
   ]
  },
  {
   "cell_type": "code",
   "execution_count": 14,
   "id": "06452837",
   "metadata": {},
   "outputs": [],
   "source": [
    "splitter = CharacterTextSplitter(chunk_size=1000, chunk_overlap=0)\n",
    "split_docs = splitter.split_documents(docs)\n",
    "\n",
    "embeddings = OpenAIEmbeddings()\n",
    "\n",
    "db = Chroma.from_documents(split_docs, embeddings)"
   ]
  },
  {
   "cell_type": "markdown",
   "id": "d64ec548",
   "metadata": {},
   "source": [
    "## Semantic Search p2\n",
    "Criteria\n",
    "- Semantic Search of Listings Based on Buyer Preferences\n",
    "\n",
    "Submission Requirements\n",
    "- The application must include a functionality where listings are semantically searched based on given buyer preferences. The search should return listings that closely match the input preferences."
   ]
  },
  {
   "cell_type": "markdown",
   "id": "6c3ffb54",
   "metadata": {},
   "source": [
    "### Buyer Pref"
   ]
  },
  {
   "cell_type": "code",
   "execution_count": 15,
   "id": "0ddf4d9a",
   "metadata": {},
   "outputs": [
    {
     "name": "stdout",
     "output_type": "stream",
     "text": [
      "The user prefers a comfortable three-bedroom house with a spacious kitchen and cozy living room. Their top priorities are a quiet neighborhood, good local schools, and convenient shopping options. Desired amenities include a backyard for gardening, a two-car garage, and a modern, energy-efficient heating system. Important transportation options include easy access to a reliable bus line, proximity to a major highway, and bike-friendly roads. They prefer a neighborhood that offers a balance between suburban tranquility and access to urban amenities like restaurants and theaters.\n"
     ]
    }
   ],
   "source": [
    "summary_prompt = PromptTemplate(\n",
    "    input_variables=[\"questions\", \"answers\"],\n",
    "    template=\"\"\"\n",
    "Given the following user responses to house preference questions, generate a concise summary.\n",
    "\n",
    "Questions:\n",
    "{questions}\n",
    "\n",
    "Answers:\n",
    "{answers}\n",
    "\n",
    "Summary:\n",
    "\"\"\",\n",
    ")\n",
    "\n",
    "# Create LLMChain\n",
    "summary_chain = LLMChain(llm=llm, prompt=summary_prompt)\n",
    "\n",
    "# Prepare input\n",
    "questions = [\n",
    "    \"How big do you want your house to be?\",\n",
    "    \"What are 3 most important things for you in choosing this property?\",\n",
    "    \"Which amenities would you like?\",\n",
    "    \"Which transportation options are important to you?\",\n",
    "    \"How urban do you want your neighborhood to be?\",\n",
    "]\n",
    "\n",
    "answers = [\n",
    "    \"A comfortable three-bedroom house with a spacious kitchen and a cozy living room.\",\n",
    "    \"A quiet neighborhood, good local schools, and convenient shopping options.\",\n",
    "    \"A backyard for gardening, a two-car garage, and a modern, energy-efficient heating system.\",\n",
    "    \"Easy access to a reliable bus line, proximity to a major highway, and bike-friendly roads.\",\n",
    "    \"A balance between suburban tranquility and access to urban amenities like restaurants and theaters.\"\n",
    "]\n",
    "\n",
    "# Generate summary\n",
    "summary = summary_chain.run({\"questions\": questions, \"answers\": answers})\n",
    "\n",
    "# Output result\n",
    "print(summary)"
   ]
  },
  {
   "cell_type": "markdown",
   "id": "37da7b6f",
   "metadata": {},
   "source": [
    "##  Personalizing Listing Descriptions"
   ]
  },
  {
   "cell_type": "code",
   "execution_count": 16,
   "id": "d23ca5a6",
   "metadata": {},
   "outputs": [],
   "source": [
    "query = \"\"\"You are a real state agent. For each listing augment the description, tailoring it to resonate with the buyer’s specific preferencesby subtly emphasizing aspects of the property that align with what the buyer is looking for based on these preferences: {} \n",
    "\"\"\".format(summary)\n",
    "\n",
    "task = \"\"\"\n",
    "- Personalize each listing descriptions based on the buyer's preferences.\n",
    "- Highlight features that align with their needs while keeping the information factual.\n",
    "- Ensure the tone is engaging and appealing without misrepresenting the property.\"\"\"\n",
    "\n",
    "similar_docs = db.similarity_search(query, k=5)\n",
    "prompt = PromptTemplate(\n",
    "    template=\"{query}\\nContext: {context}\\nTask:{task}\",\n",
    "    input_variables=[\"query\", \"context\",\"task\"],)\n",
    "chain = load_qa_chain(llm, prompt = prompt, chain_type=\"stuff\")\n",
    "llm_resp=chain.run(input_documents=similar_docs, query = query, task=task)"
   ]
  },
  {
   "cell_type": "code",
   "execution_count": 17,
   "id": "7fa8952d",
   "metadata": {},
   "outputs": [
    {
     "name": "stdout",
     "output_type": "stream",
     "text": [
      "\n",
      "__________________________________________________________________\n",
      "\n",
      "Our suggestion:\n",
      "1. **Georgetown Townhouse:**\n",
      "   Historic townhouse in Georgetown with a private garden and original details. This 3-bedroom, 2-bathroom home features a gourmet kitchen, hardwood floors, and a cozy fireplace. Perfect for those seeking a comfortable three-bedroom house with a spacious kitchen and cozy living room. Nestled in the quiet neighborhood of Georgetown, known for its upscale shops and historic architecture. Enjoy the convenience of nearby shopping options and good local schools. The backyard is ideal for gardening, and the two-car garage provides ample storage. Stay cozy with the modern, energy-efficient heating system. Easy access to a reliable bus line and major highway, with bike-friendly roads for your convenience. Experience suburban tranquility with access to urban amenities like restaurants and theaters in this prestigious enclave.\n",
      "\n",
      "2. **Soho Loft-Style Apartment:**\n",
      "   Loft-style apartment in Soho with exposed brick and high ceilings. This 4-bedroom, 3-bathroom unit features a designer kitchen, home office, and custom lighting. While this property offers 4 bedrooms, the spacious kitchen and cozy living room provide the comfort you desire. Located in the trendy neighborhood of Soho, known for its chic restaurants and upscale boutiques. Enjoy the convenience of nearby shopping options and good local schools. The rooftop deck offers a relaxing space with city views, and the two-car garage ensures parking is never an issue. Stay warm with the modern, energy-efficient heating system. Easy access to a reliable bus line and major highway, with bike-friendly roads for your convenience. Experience the perfect balance between suburban tranquility and urban amenities in this stylish enclave.\n",
      "\n",
      "3. **South Beach Modern Townhouse:**\n",
      "   Modern townhouse in South Beach with a rooftop deck and ocean views. This 3-bedroom, 3-bathroom home offers a gourmet kitchen, spa-like bathrooms, and a two-car garage. This property boasts a spacious kitchen and cozy living room, perfect for your comfort needs. Located in the trendy neighborhood of South Beach, known for its vibrant nightlife and sandy beaches. Enjoy the convenience of nearby shopping options and good local schools. The rooftop deck provides a serene space with ocean views, and the two-car garage ensures parking is never an issue. Stay eco-friendly with the modern, energy-efficient heating system. Easy access to a reliable bus line and major highway, with bike-friendly roads for your convenience. Experience the best of Miami living with suburban tranquility and urban amenities in this stylish enclave.\n"
     ]
    }
   ],
   "source": [
    "# print(\"These are the top 5 listings similar to what you are looking for:\")\n",
    "# for doc in similar_docs:\n",
    "#     print(doc.page_content)\n",
    "\n",
    "print(\"\\n__________________________________________________________________\\n\")\n",
    "print(\"Our suggestion:\")\n",
    "print(llm_resp)"
   ]
  },
  {
   "cell_type": "code",
   "execution_count": 18,
   "id": "f8ef7bca",
   "metadata": {},
   "outputs": [
    {
     "name": "stdout",
     "output_type": "stream",
     "text": [
      "Based on the user's preferences, I have developed a persona of someone who values a comfortable and spacious home in a quiet neighborhood with good local schools and convenient shopping options. They also prioritize amenities such as a backyard for gardening, a two-car garage, and a modern, energy-efficient heating system. Transportation options are important to them, including easy access to a reliable bus line, proximity to a major highway, and bike-friendly roads. They prefer a balance between suburban tranquility and access to urban amenities like restaurants and theaters.\n",
      "\n",
      "Considering the listing in Georgetown, which features a historic townhouse with a private garden, a gourmet kitchen, hardwood floors, and a cozy fireplace, I believe this property aligns well with the user's preferences. The neighborhood of Georgetown offers charm, historic architecture, and upscale shops, providing a mix of tranquility and access to urban amenities.\n",
      "\n",
      "Overall, based on the user's persona and preferences, I would rate this listing as 85. The user is likely to appreciate the historic charm, private garden, and gourmet kitchen, making it a desirable option for them.\n",
      "\n",
      "RATING for this Listing is 85.\n",
      "___________________________________________________________________________________\n",
      "Based on the user's preferences for a comfortable and spacious home in a quiet neighborhood with good local schools and convenient shopping options, as well as their desire for amenities such as a backyard for gardening, a two-car garage, and a modern, energy-efficient heating system, I have developed a persona for someone who values comfort, space, amenities, and transportation options. This persona seeks a balance between suburban tranquility and access to urban amenities like restaurants and theaters.\n",
      "\n",
      "The listing in Georgetown, featuring a historic townhouse with a private garden, a gourmet kitchen, hardwood floors, and a cozy fireplace, aligns well with the user's preferences. The charm, historic architecture, and upscale shops in the neighborhood of Georgetown provide a mix of tranquility and access to urban amenities, making it a desirable option for this persona.\n",
      "\n",
      "Considering the user's persona and preferences, I would rate this listing as 85. The user is likely to appreciate the historic charm, private garden, and gourmet kitchen, making it a highly appealing option for them.\n",
      "\n",
      "RATING for this Listing is 85.\n",
      "___________________________________________________________________________________\n",
      "Based on the user's preferences for a comfortable and spacious home in a quiet neighborhood with good local schools and convenient shopping options, as well as their desire for amenities such as a backyard for gardening, a two-car garage, and a modern, energy-efficient heating system, I have developed a persona for someone who values comfort, space, amenities, and transportation options. This persona seeks a balance between suburban tranquility and access to urban amenities like restaurants and theaters.\n",
      "\n",
      "The listing in Soho, featuring a loft-style apartment with exposed brick and high ceilings, a designer kitchen, a home office, and custom lighting, may not fully align with the user's preferences for a quiet neighborhood and a spacious house with a backyard. While the trendy neighborhood of Soho offers art galleries, upscale boutiques, and chic restaurants, it may not provide the suburban tranquility the user desires.\n",
      "\n",
      "Considering the user's persona and preferences, I would rate this listing as 65. The user may appreciate the stylish design and upscale features of the apartment, but the lack of a backyard and the urban setting of Soho may not fully meet their criteria for a comfortable and spacious home in a quiet neighborhood.\n",
      "\n",
      "RATING for this Listing is 65.\n",
      "___________________________________________________________________________________\n",
      "Based on the user's preferences for a comfortable and spacious home in a quiet neighborhood with good local schools and convenient shopping options, as well as their desire for amenities such as a backyard for gardening, a two-car garage, and a modern, energy-efficient heating system, I have developed a persona for someone who values comfort, space, amenities, and transportation options. This persona seeks a balance between suburban tranquility and access to urban amenities like restaurants and theaters.\n",
      "\n",
      "The listing in Soho, featuring a loft-style apartment with exposed brick and high ceilings, a designer kitchen, a home office, and custom lighting, may not fully align with the user's preferences for a quiet neighborhood and a spacious house with a backyard. While the trendy neighborhood of Soho offers art galleries, upscale boutiques, and chic restaurants, it may not provide the suburban tranquility the user desires.\n",
      "\n",
      "Considering the user's persona and preferences, I would rate this listing as 65. The user may appreciate the stylish design and upscale features of the apartment, but the lack of a backyard and the urban setting of Soho may not fully meet their criteria for a comfortable and spacious home in a quiet neighborhood.\n",
      "\n",
      "RATING for this Listing is 65.\n",
      "___________________________________________________________________________________\n",
      "Based on the user's preferences for a comfortable and spacious home in a quiet neighborhood with good local schools and convenient shopping options, as well as their desire for amenities such as a backyard for gardening, a two-car garage, and a modern, energy-efficient heating system, I have developed a persona for someone who values comfort, space, amenities, and transportation options. This persona seeks a balance between suburban tranquility and access to urban amenities like restaurants and theaters.\n",
      "\n",
      "The listing in South Beach, featuring a modern townhouse with a rooftop deck and ocean views, offers a gourmet kitchen, spa-like bathrooms, and a two-car garage. The trendy neighborhood of South Beach is known for its sandy beaches, vibrant nightlife, and Art Deco architecture, providing a stylish enclave for those seeking a mix of urban amenities and coastal living.\n",
      "\n",
      "Considering the user's persona and preferences, I would rate this listing as 75. While the modern features and ocean views may appeal to the user's desire for comfort and amenities, the urban setting of South Beach may not fully meet their criteria for a quiet neighborhood. However, the rooftop deck and ocean views could provide a unique and desirable living experience for this persona.\n",
      "\n",
      "RATING for this Listing is 75.\n",
      "___________________________________________________________________________________\n",
      "Based on your preferences for a comfortable and spacious home in a quiet neighborhood with good local schools and convenient shopping options, as well as your desire for amenities such as a backyard for gardening, a two-car garage, and a modern, energy-efficient heating system, I recommend the listing in Georgetown. This historic townhouse offers a private garden, a gourmet kitchen, hardwood floors, and a cozy fireplace, providing a perfect blend of charm, tranquility, and urban amenities. The neighborhood of Georgetown also offers upscale shops and historic architecture, making it an ideal choice for someone who values comfort, space, and a balance between suburban tranquility and urban amenities.\n"
     ]
    }
   ],
   "source": [
    "max_rating = 100\n",
    "\n",
    "history = ChatMessageHistory()\n",
    "history.add_user_message(f\"\"\"You are AI Real Estate Agent that will recommend user listings based on their answers to personal questions. Ask user {len(questions)} questions\"\"\")\n",
    "for i in range(len(questions)):\n",
    "    history.add_ai_message(questions[i])\n",
    "    history.add_user_message(answers[i])\n",
    "    \n",
    "summary_memory = ConversationSummaryMemory(\n",
    "    llm=llm,\n",
    "    memory_key=\"recommendation_summary\", \n",
    "    input_key=\"input\",\n",
    "    buffer=f\"The human answered {len(questions)} personal questions). Use them to rate, from 1 to {max_rating}, how much they like a listing they describe to you.\",\n",
    "    return_messages=True)\n",
    "\n",
    "# you could choose to store some of the q/a in memory as well, in addition to original questions\n",
    "class MementoBufferMemory(ConversationBufferMemory):\n",
    "    def save_context(self, inputs: Dict[str, Any], outputs: Dict[str, str]) -> None:\n",
    "        input_str, output_str = self._get_input_output(inputs, outputs)\n",
    "        self.chat_memory.add_ai_message(output_str)\n",
    "    \n",
    "conversational_memory = MementoBufferMemory(\n",
    "    chat_memory=history,\n",
    "    memory_key=\"questions_and_answers\", \n",
    "    input_key=\"input\"\n",
    ")\n",
    "\n",
    "# Combined\n",
    "memory = CombinedMemory(memories=[conversational_memory, summary_memory])\n",
    "RECOMMENDER_TEMPLATE = \"\"\"The following is a friendly conversation between a human and an AI Real State Agent. \n",
    "                        The AI is follows human instructions and real state ratings for a human based on the listing information\n",
    "                        and human's answers to questions. \n",
    "\n",
    "Summary of Recommendations:\n",
    "{recommendation_summary}\n",
    "Personal Questions and Answers:\n",
    "{questions_and_answers}\n",
    "Human: {input}\n",
    "AI:\"\"\"\n",
    "PROMPT = PromptTemplate(\n",
    "    input_variables=[\"recommendation_summary\", \"input\", \"questions_and_answers\"],\n",
    "    template=RECOMMENDER_TEMPLATE\n",
    ")\n",
    "recommender = ConversationChain(llm=llm, verbose=False, memory=memory, prompt=PROMPT)\n",
    " \n",
    "for doc in similar_docs:\n",
    "#     print(doc)\n",
    "    listing = doc\n",
    "    # print(f\"Plot: {movie_plot}\")\n",
    "    \n",
    "    plot_rating_instructions = f\"\"\"\n",
    "        === START listing ===\n",
    "        {doc}\n",
    "        === END listing SUMMARY ===\n",
    "        =====================================\n",
    "\n",
    "        RATING INSTRUCTIONS THAT MUST BE STRICTLY FOLLOWED:\n",
    "        AI will provide a highly personalized rating based only on the listing information and the summary provided by the user, as well as the user's answers to questions included within the context.\n",
    "        AI should be highly sensitive to the user's personal preferences captured in their responses and should not be influenced by any other factors.\n",
    "        AI will also construct a persona for the user based on their answers to questions and use this persona to rate the listing.\n",
    "        OUTPUT FORMAT:\n",
    "            First, include the persona you have developed in the explanation for the rating. Describe the persona in a few sentences.\n",
    "            Explain how the user's preferences, as captured in their answers to personal questions, influenced the creation of this persona.\n",
    "            Additionally, consider other ratings for this user that you might have, as they might provide more information about the user's preferences.\n",
    "            Your goal is to provide a rating that closely aligns with the rating the user would give to this listing.\n",
    "            Remember that the user has limited time and wants to see listings they will appreciate, so your rating should be as accurate as possible.\n",
    "            Ratings will range from 1 to {max_rating}, with {max_rating} meaning the user will love it, and 1 meaning the user will dislike it.\n",
    "            Include a logical explanation for your rating based on the persona you've built and the user's responses to questions.\n",
    "            - Personalize each listing description based on the buyer's preferences.\n",
    "            - Highlight features that align with their needs while keeping the information factual.\n",
    "            - Ensure the tone is engaging and appealing without misrepresenting the property.\n",
    "\n",
    "            YOUR REVIEW MUST END WITH THE TEXT: \"RATING for this Listing is \" FOLLOWED BY THE RATING.\n",
    "            FOLLOW THE INSTRUCTIONS STRICTLY, OTHERWISE, THE USER MAY NOT UNDERSTAND YOUR REVIEW.\n",
    "        \"\"\"\n",
    "    prediction = recommender.predict(input=plot_rating_instructions)\n",
    "    print(prediction)\n",
    "    print(\"___________________________________________________________________________________\")\n",
    "final_recommendation = \"\"\"Now that AI has rated all the listings, AI will recommend human the one that human will like the most. \n",
    "                            AI will respond with property recommendation, and short explanation for why human will like it over all other movies. \n",
    "                            AI will not include any ratings in your explanation, only the reasons why human will like it the most.\n",
    "                            However, the property you will pick must be one of the property you rated the highest.\n",
    "                            For example, if you rated one property 65, and the other 60, you will recommend the property with rating 65 because rating 65 \n",
    "                            is greate than rating of 60 .\"\"\"\n",
    "prediction = recommender.predict(input=final_recommendation)\n",
    "print(prediction)"
   ]
  },
  {
   "cell_type": "code",
   "execution_count": 19,
   "id": "c54ab5db",
   "metadata": {},
   "outputs": [
    {
     "name": "stdout",
     "output_type": "stream",
     "text": [
      "HomeMatch.ipynb\r\n",
      "HomeMatch.py\r\n",
      "HomeMatch.tar.gz\r\n",
      "README.md\r\n",
      "listings.json\r\n",
      "requirements.txt\r\n"
     ]
    }
   ],
   "source": [
    "! tar -czvf HomeMatch.tar.gz *\n"
   ]
  },
  {
   "cell_type": "code",
   "execution_count": null,
   "id": "12ccd331",
   "metadata": {},
   "outputs": [],
   "source": []
  }
 ],
 "metadata": {
  "kernelspec": {
   "display_name": "Python 3 (ipykernel)",
   "language": "python",
   "name": "python3"
  },
  "language_info": {
   "codemirror_mode": {
    "name": "ipython",
    "version": 3
   },
   "file_extension": ".py",
   "mimetype": "text/x-python",
   "name": "python",
   "nbconvert_exporter": "python",
   "pygments_lexer": "ipython3",
   "version": "3.10.11"
  }
 },
 "nbformat": 4,
 "nbformat_minor": 5
}
